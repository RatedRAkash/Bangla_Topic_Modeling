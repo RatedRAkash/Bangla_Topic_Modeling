{
  "nbformat": 4,
  "nbformat_minor": 0,
  "metadata": {
    "colab": {
      "name": "LDA.ipynb",
      "provenance": [],
      "collapsed_sections": [
        "UgEm91sTvXHU",
        "c1ZGh_tM1YYo",
        "3hPUl_bYvTS9",
        "x7UbLRCRwOtY",
        "MllxkVrLwRkS"
      ],
      "toc_visible": true
    },
    "kernelspec": {
      "display_name": "Python 3",
      "name": "python3"
    },
    "language_info": {
      "name": "python"
    }
  },
  "cells": [
    {
      "cell_type": "code",
      "metadata": {
        "id": "VkzL4eNHUvXE"
      },
      "source": [
        "# -*- coding: utf-8 -*-"
      ],
      "execution_count": null,
      "outputs": []
    },
    {
      "cell_type": "markdown",
      "metadata": {
        "id": "UgEm91sTvXHU"
      },
      "source": [
        "# Installs"
      ]
    },
    {
      "cell_type": "code",
      "metadata": {
        "id": "atY4lH0CKhZ3"
      },
      "source": [
        "!pip install pyLDAvis"
      ],
      "execution_count": null,
      "outputs": []
    },
    {
      "cell_type": "code",
      "metadata": {
        "id": "v3uENfm9vR0K",
        "colab": {
          "base_uri": "https://localhost:8080/"
        },
        "outputId": "7fbb8108-a8f0-4b82-d4d5-9a48051d96f3"
      },
      "source": [
        "!pip install bnlp_toolkit"
      ],
      "execution_count": null,
      "outputs": [
        {
          "output_type": "stream",
          "text": [
            "Requirement already satisfied: bnlp_toolkit in /usr/local/lib/python3.7/dist-packages (3.1.1)\n",
            "Requirement already satisfied: wasabi in /usr/local/lib/python3.7/dist-packages (from bnlp_toolkit) (0.8.2)\n",
            "Requirement already satisfied: scipy in /usr/local/lib/python3.7/dist-packages (from bnlp_toolkit) (1.4.1)\n",
            "Requirement already satisfied: numpy in /usr/local/lib/python3.7/dist-packages (from bnlp_toolkit) (1.19.5)\n",
            "Requirement already satisfied: gensim==4.0.1 in /usr/local/lib/python3.7/dist-packages (from bnlp_toolkit) (4.0.1)\n",
            "Requirement already satisfied: sentencepiece in /usr/local/lib/python3.7/dist-packages (from bnlp_toolkit) (0.1.96)\n",
            "Requirement already satisfied: nltk in /usr/local/lib/python3.7/dist-packages (from bnlp_toolkit) (3.2.5)\n",
            "Requirement already satisfied: sklearn-crfsuite in /usr/local/lib/python3.7/dist-packages (from bnlp_toolkit) (0.3.6)\n",
            "Requirement already satisfied: smart-open>=1.8.1 in /usr/local/lib/python3.7/dist-packages (from gensim==4.0.1->bnlp_toolkit) (5.1.0)\n",
            "Requirement already satisfied: six in /usr/local/lib/python3.7/dist-packages (from nltk->bnlp_toolkit) (1.15.0)\n",
            "Requirement already satisfied: tqdm>=2.0 in /usr/local/lib/python3.7/dist-packages (from sklearn-crfsuite->bnlp_toolkit) (4.41.1)\n",
            "Requirement already satisfied: tabulate in /usr/local/lib/python3.7/dist-packages (from sklearn-crfsuite->bnlp_toolkit) (0.8.9)\n",
            "Requirement already satisfied: python-crfsuite>=0.8.3 in /usr/local/lib/python3.7/dist-packages (from sklearn-crfsuite->bnlp_toolkit) (0.9.7)\n"
          ],
          "name": "stdout"
        }
      ]
    },
    {
      "cell_type": "code",
      "metadata": {
        "id": "1iDyEVO_bUO7",
        "colab": {
          "base_uri": "https://localhost:8080/"
        },
        "outputId": "3281234d-5c15-43d4-9189-717fee832c90"
      },
      "source": [
        "!pip install bnltk"
      ],
      "execution_count": null,
      "outputs": [
        {
          "output_type": "stream",
          "text": [
            "Requirement already satisfied: bnltk in /usr/local/lib/python3.7/dist-packages (0.7.6)\n",
            "Requirement already satisfied: keras in /usr/local/lib/python3.7/dist-packages (from bnltk) (2.4.3)\n",
            "Requirement already satisfied: tensorflow in /usr/local/lib/python3.7/dist-packages (from bnltk) (2.5.0)\n",
            "Requirement already satisfied: requests in /usr/local/lib/python3.7/dist-packages (from bnltk) (2.23.0)\n",
            "Requirement already satisfied: sklearn in /usr/local/lib/python3.7/dist-packages (from bnltk) (0.0)\n",
            "Requirement already satisfied: numpy in /usr/local/lib/python3.7/dist-packages (from bnltk) (1.19.5)\n",
            "Requirement already satisfied: h5py in /usr/local/lib/python3.7/dist-packages (from keras->bnltk) (3.1.0)\n",
            "Requirement already satisfied: scipy>=0.14 in /usr/local/lib/python3.7/dist-packages (from keras->bnltk) (1.4.1)\n",
            "Requirement already satisfied: pyyaml in /usr/local/lib/python3.7/dist-packages (from keras->bnltk) (3.13)\n",
            "Requirement already satisfied: google-pasta~=0.2 in /usr/local/lib/python3.7/dist-packages (from tensorflow->bnltk) (0.2.0)\n",
            "Requirement already satisfied: typing-extensions~=3.7.4 in /usr/local/lib/python3.7/dist-packages (from tensorflow->bnltk) (3.7.4.3)\n",
            "Requirement already satisfied: astunparse~=1.6.3 in /usr/local/lib/python3.7/dist-packages (from tensorflow->bnltk) (1.6.3)\n",
            "Requirement already satisfied: keras-nightly~=2.5.0.dev in /usr/local/lib/python3.7/dist-packages (from tensorflow->bnltk) (2.5.0.dev2021032900)\n",
            "Requirement already satisfied: wrapt~=1.12.1 in /usr/local/lib/python3.7/dist-packages (from tensorflow->bnltk) (1.12.1)\n",
            "Requirement already satisfied: tensorboard~=2.5 in /usr/local/lib/python3.7/dist-packages (from tensorflow->bnltk) (2.5.0)\n",
            "Requirement already satisfied: tensorflow-estimator<2.6.0,>=2.5.0rc0 in /usr/local/lib/python3.7/dist-packages (from tensorflow->bnltk) (2.5.0)\n",
            "Requirement already satisfied: keras-preprocessing~=1.1.2 in /usr/local/lib/python3.7/dist-packages (from tensorflow->bnltk) (1.1.2)\n",
            "Requirement already satisfied: grpcio~=1.34.0 in /usr/local/lib/python3.7/dist-packages (from tensorflow->bnltk) (1.34.1)\n",
            "Requirement already satisfied: absl-py~=0.10 in /usr/local/lib/python3.7/dist-packages (from tensorflow->bnltk) (0.12.0)\n",
            "Requirement already satisfied: six~=1.15.0 in /usr/local/lib/python3.7/dist-packages (from tensorflow->bnltk) (1.15.0)\n",
            "Requirement already satisfied: termcolor~=1.1.0 in /usr/local/lib/python3.7/dist-packages (from tensorflow->bnltk) (1.1.0)\n",
            "Requirement already satisfied: protobuf>=3.9.2 in /usr/local/lib/python3.7/dist-packages (from tensorflow->bnltk) (3.12.4)\n",
            "Requirement already satisfied: gast==0.4.0 in /usr/local/lib/python3.7/dist-packages (from tensorflow->bnltk) (0.4.0)\n",
            "Requirement already satisfied: opt-einsum~=3.3.0 in /usr/local/lib/python3.7/dist-packages (from tensorflow->bnltk) (3.3.0)\n",
            "Requirement already satisfied: wheel~=0.35 in /usr/local/lib/python3.7/dist-packages (from tensorflow->bnltk) (0.36.2)\n",
            "Requirement already satisfied: flatbuffers~=1.12.0 in /usr/local/lib/python3.7/dist-packages (from tensorflow->bnltk) (1.12)\n",
            "Requirement already satisfied: chardet<4,>=3.0.2 in /usr/local/lib/python3.7/dist-packages (from requests->bnltk) (3.0.4)\n",
            "Requirement already satisfied: certifi>=2017.4.17 in /usr/local/lib/python3.7/dist-packages (from requests->bnltk) (2021.5.30)\n",
            "Requirement already satisfied: idna<3,>=2.5 in /usr/local/lib/python3.7/dist-packages (from requests->bnltk) (2.10)\n",
            "Requirement already satisfied: urllib3!=1.25.0,!=1.25.1,<1.26,>=1.21.1 in /usr/local/lib/python3.7/dist-packages (from requests->bnltk) (1.24.3)\n",
            "Requirement already satisfied: scikit-learn in /usr/local/lib/python3.7/dist-packages (from sklearn->bnltk) (0.22.2.post1)\n",
            "Requirement already satisfied: cached-property; python_version < \"3.8\" in /usr/local/lib/python3.7/dist-packages (from h5py->keras->bnltk) (1.5.2)\n",
            "Requirement already satisfied: setuptools>=41.0.0 in /usr/local/lib/python3.7/dist-packages (from tensorboard~=2.5->tensorflow->bnltk) (57.0.0)\n",
            "Requirement already satisfied: tensorboard-data-server<0.7.0,>=0.6.0 in /usr/local/lib/python3.7/dist-packages (from tensorboard~=2.5->tensorflow->bnltk) (0.6.1)\n",
            "Requirement already satisfied: tensorboard-plugin-wit>=1.6.0 in /usr/local/lib/python3.7/dist-packages (from tensorboard~=2.5->tensorflow->bnltk) (1.8.0)\n",
            "Requirement already satisfied: werkzeug>=0.11.15 in /usr/local/lib/python3.7/dist-packages (from tensorboard~=2.5->tensorflow->bnltk) (1.0.1)\n",
            "Requirement already satisfied: markdown>=2.6.8 in /usr/local/lib/python3.7/dist-packages (from tensorboard~=2.5->tensorflow->bnltk) (3.3.4)\n",
            "Requirement already satisfied: google-auth<2,>=1.6.3 in /usr/local/lib/python3.7/dist-packages (from tensorboard~=2.5->tensorflow->bnltk) (1.31.0)\n",
            "Requirement already satisfied: google-auth-oauthlib<0.5,>=0.4.1 in /usr/local/lib/python3.7/dist-packages (from tensorboard~=2.5->tensorflow->bnltk) (0.4.4)\n",
            "Requirement already satisfied: joblib>=0.11 in /usr/local/lib/python3.7/dist-packages (from scikit-learn->sklearn->bnltk) (1.0.1)\n",
            "Requirement already satisfied: importlib-metadata; python_version < \"3.8\" in /usr/local/lib/python3.7/dist-packages (from markdown>=2.6.8->tensorboard~=2.5->tensorflow->bnltk) (4.5.0)\n",
            "Requirement already satisfied: cachetools<5.0,>=2.0.0 in /usr/local/lib/python3.7/dist-packages (from google-auth<2,>=1.6.3->tensorboard~=2.5->tensorflow->bnltk) (4.2.2)\n",
            "Requirement already satisfied: pyasn1-modules>=0.2.1 in /usr/local/lib/python3.7/dist-packages (from google-auth<2,>=1.6.3->tensorboard~=2.5->tensorflow->bnltk) (0.2.8)\n",
            "Requirement already satisfied: rsa<5,>=3.1.4; python_version >= \"3.6\" in /usr/local/lib/python3.7/dist-packages (from google-auth<2,>=1.6.3->tensorboard~=2.5->tensorflow->bnltk) (4.7.2)\n",
            "Requirement already satisfied: requests-oauthlib>=0.7.0 in /usr/local/lib/python3.7/dist-packages (from google-auth-oauthlib<0.5,>=0.4.1->tensorboard~=2.5->tensorflow->bnltk) (1.3.0)\n",
            "Requirement already satisfied: zipp>=0.5 in /usr/local/lib/python3.7/dist-packages (from importlib-metadata; python_version < \"3.8\"->markdown>=2.6.8->tensorboard~=2.5->tensorflow->bnltk) (3.4.1)\n",
            "Requirement already satisfied: pyasn1<0.5.0,>=0.4.6 in /usr/local/lib/python3.7/dist-packages (from pyasn1-modules>=0.2.1->google-auth<2,>=1.6.3->tensorboard~=2.5->tensorflow->bnltk) (0.4.8)\n",
            "Requirement already satisfied: oauthlib>=3.0.0 in /usr/local/lib/python3.7/dist-packages (from requests-oauthlib>=0.7.0->google-auth-oauthlib<0.5,>=0.4.1->tensorboard~=2.5->tensorflow->bnltk) (3.1.1)\n"
          ],
          "name": "stdout"
        }
      ]
    },
    {
      "cell_type": "code",
      "metadata": {
        "id": "e-qlZ3MhMRv9",
        "colab": {
          "base_uri": "https://localhost:8080/"
        },
        "outputId": "3d75feb9-0050-48bf-963b-035a67bb9941"
      },
      "source": [
        "!pip install git+https://github.com/banglakit/bengali-stemmer.git"
      ],
      "execution_count": null,
      "outputs": [
        {
          "output_type": "stream",
          "text": [
            "Collecting git+https://github.com/banglakit/bengali-stemmer.git\n",
            "  Cloning https://github.com/banglakit/bengali-stemmer.git to /tmp/pip-req-build-dkpm91mb\n",
            "  Running command git clone -q https://github.com/banglakit/bengali-stemmer.git /tmp/pip-req-build-dkpm91mb\n",
            "Requirement already satisfied (use --upgrade to upgrade): bengali-stemmer==0.0.1 from git+https://github.com/banglakit/bengali-stemmer.git in /usr/local/lib/python3.7/dist-packages\n",
            "Building wheels for collected packages: bengali-stemmer\n",
            "  Building wheel for bengali-stemmer (setup.py) ... \u001b[?25l\u001b[?25hdone\n",
            "  Created wheel for bengali-stemmer: filename=bengali_stemmer-0.0.1-py2.py3-none-any.whl size=6408 sha256=d1b2669a404996897162bc5c58ea4de6cdb03ba86da3bbfcfecf846bede8ca5e\n",
            "  Stored in directory: /tmp/pip-ephem-wheel-cache-_5oh96k0/wheels/a1/ad/a1/4ba354059b17c00600a14e13a504e7bdb49f20f2f4e2f3639c\n",
            "Successfully built bengali-stemmer\n"
          ],
          "name": "stdout"
        }
      ]
    },
    {
      "cell_type": "markdown",
      "metadata": {
        "id": "3hPUl_bYvTS9"
      },
      "source": [
        "# Imports"
      ]
    },
    {
      "cell_type": "code",
      "metadata": {
        "colab": {
          "base_uri": "https://localhost:8080/"
        },
        "id": "6SBS2qq0uRju",
        "outputId": "4cd3dda6-cbfd-454a-9efa-54531bd9c079"
      },
      "source": [
        "import pandas as pd\n",
        "import numpy as np\n",
        "import random\n",
        "import re\n",
        "import os\n",
        "\n",
        "from sklearn.feature_extraction.text import CountVectorizer\n",
        "\n",
        "from bnlp.corpus import stopwords as stopwords_1, punctuations, digits\n",
        "from bnlp.corpus.util import remove_stopwords\n",
        "\n",
        "from bengali_stemmer.rafikamal2014 import RafiStemmer\n",
        "from bnltk.tokenize import Tokenizers"
      ],
      "execution_count": null,
      "outputs": [
        {
          "output_type": "stream",
          "text": [
            "/usr/local/lib/python3.7/dist-packages/gensim/similarities/__init__.py:15: UserWarning: The gensim.similarities.levenshtein submodule is disabled, because the optional Levenshtein package <https://pypi.org/project/python-Levenshtein/> is unavailable. Install Levenhstein (e.g. `pip install python-Levenshtein`) to suppress this warning.\n",
            "  warnings.warn(msg)\n"
          ],
          "name": "stderr"
        }
      ]
    },
    {
      "cell_type": "markdown",
      "metadata": {
        "id": "x7UbLRCRwOtY"
      },
      "source": [
        "# Connect Drive"
      ]
    },
    {
      "cell_type": "code",
      "metadata": {
        "colab": {
          "base_uri": "https://localhost:8080/"
        },
        "id": "iTP3CSzWuWS9",
        "outputId": "484b0597-1af6-4d98-bb63-98da0c4a9d68"
      },
      "source": [
        "from google.colab import drive\n",
        "drive.mount('/content/drive')"
      ],
      "execution_count": null,
      "outputs": [
        {
          "output_type": "stream",
          "text": [
            "Drive already mounted at /content/drive; to attempt to forcibly remount, call drive.mount(\"/content/drive\", force_remount=True).\n"
          ],
          "name": "stdout"
        }
      ]
    },
    {
      "cell_type": "code",
      "metadata": {
        "colab": {
          "base_uri": "https://localhost:8080/"
        },
        "id": "O0Q9h12U2XOr",
        "outputId": "5bb8dc5a-0e17-49e6-d6fa-d9b595c3367f"
      },
      "source": [
        "%cd '/content/drive/My Drive/THESIS/LDA'\n",
        "\n",
        "!pip install cache-magic\n",
        "import cache_magic\n",
        "!mkdir .cache\n",
        "!ln -s '/content/drive/My Drive/THESIS/LDA/.cache' /content/.cache"
      ],
      "execution_count": null,
      "outputs": [
        {
          "output_type": "stream",
          "text": [
            "/content/drive/My Drive/THESIS/LDA\n",
            "Requirement already satisfied: cache-magic in /usr/local/lib/python3.7/dist-packages (1.0.4)\n",
            "Requirement already satisfied: astunparse in /usr/local/lib/python3.7/dist-packages (from cache-magic) (1.6.3)\n",
            "Requirement already satisfied: tabulate in /usr/local/lib/python3.7/dist-packages (from cache-magic) (0.8.9)\n",
            "Requirement already satisfied: IPython in /usr/local/lib/python3.7/dist-packages (from cache-magic) (5.5.0)\n",
            "Requirement already satisfied: six<2.0,>=1.6.1 in /usr/local/lib/python3.7/dist-packages (from astunparse->cache-magic) (1.15.0)\n",
            "Requirement already satisfied: wheel<1.0,>=0.23.0 in /usr/local/lib/python3.7/dist-packages (from astunparse->cache-magic) (0.36.2)\n",
            "Requirement already satisfied: pexpect; sys_platform != \"win32\" in /usr/local/lib/python3.7/dist-packages (from IPython->cache-magic) (4.8.0)\n",
            "Requirement already satisfied: decorator in /usr/local/lib/python3.7/dist-packages (from IPython->cache-magic) (4.4.2)\n",
            "Requirement already satisfied: prompt-toolkit<2.0.0,>=1.0.4 in /usr/local/lib/python3.7/dist-packages (from IPython->cache-magic) (1.0.18)\n",
            "Requirement already satisfied: traitlets>=4.2 in /usr/local/lib/python3.7/dist-packages (from IPython->cache-magic) (5.0.5)\n",
            "Requirement already satisfied: pygments in /usr/local/lib/python3.7/dist-packages (from IPython->cache-magic) (2.6.1)\n",
            "Requirement already satisfied: simplegeneric>0.8 in /usr/local/lib/python3.7/dist-packages (from IPython->cache-magic) (0.8.1)\n",
            "Requirement already satisfied: setuptools>=18.5 in /usr/local/lib/python3.7/dist-packages (from IPython->cache-magic) (57.0.0)\n",
            "Requirement already satisfied: pickleshare in /usr/local/lib/python3.7/dist-packages (from IPython->cache-magic) (0.7.5)\n",
            "Requirement already satisfied: ptyprocess>=0.5 in /usr/local/lib/python3.7/dist-packages (from pexpect; sys_platform != \"win32\"->IPython->cache-magic) (0.7.0)\n",
            "Requirement already satisfied: wcwidth in /usr/local/lib/python3.7/dist-packages (from prompt-toolkit<2.0.0,>=1.0.4->IPython->cache-magic) (0.2.5)\n",
            "Requirement already satisfied: ipython-genutils in /usr/local/lib/python3.7/dist-packages (from traitlets>=4.2->IPython->cache-magic) (0.2.0)\n",
            "mkdir: cannot create directory ‘.cache’: File exists\n",
            "ln: failed to create symbolic link '/content/.cache/.cache': File exists\n"
          ],
          "name": "stdout"
        }
      ]
    },
    {
      "cell_type": "markdown",
      "metadata": {
        "id": "MllxkVrLwRkS"
      },
      "source": [
        "# Get Dataset"
      ]
    },
    {
      "cell_type": "code",
      "metadata": {
        "colab": {
          "base_uri": "https://localhost:8080/",
          "height": 643
        },
        "id": "S1RY_dB7unHu",
        "outputId": "93e02513-1ad1-4971-fb5f-ac2c7fd99faa"
      },
      "source": [
        "articles = pd.read_csv('/content/drive/MyDrive/THESIS/Final Dataset/all_final_reduced.csv', error_bad_lines=False)\n",
        "print(articles.isnull().sum())\n",
        "articles"
      ],
      "execution_count": null,
      "outputs": [
        {
          "output_type": "stream",
          "text": [
            "/usr/local/lib/python3.7/dist-packages/IPython/core/interactiveshell.py:2882: FutureWarning: The error_bad_lines argument has been deprecated and will be removed in a future version.\n",
            "\n",
            "\n",
            "  exec(code_obj, self.user_global_ns, self.user_ns)\n"
          ],
          "name": "stderr"
        },
        {
          "output_type": "stream",
          "text": [
            "Full_Text    0\n",
            "Headline     0\n",
            "Date         0\n",
            "Topic        0\n",
            "Source       0\n",
            "Year         0\n",
            "dtype: int64\n"
          ],
          "name": "stdout"
        },
        {
          "output_type": "execute_result",
          "data": {
            "text/html": [
              "<div>\n",
              "<style scoped>\n",
              "    .dataframe tbody tr th:only-of-type {\n",
              "        vertical-align: middle;\n",
              "    }\n",
              "\n",
              "    .dataframe tbody tr th {\n",
              "        vertical-align: top;\n",
              "    }\n",
              "\n",
              "    .dataframe thead th {\n",
              "        text-align: right;\n",
              "    }\n",
              "</style>\n",
              "<table border=\"1\" class=\"dataframe\">\n",
              "  <thead>\n",
              "    <tr style=\"text-align: right;\">\n",
              "      <th></th>\n",
              "      <th>Full_Text</th>\n",
              "      <th>Headline</th>\n",
              "      <th>Date</th>\n",
              "      <th>Topic</th>\n",
              "      <th>Source</th>\n",
              "      <th>Year</th>\n",
              "    </tr>\n",
              "  </thead>\n",
              "  <tbody>\n",
              "    <tr>\n",
              "      <th>0</th>\n",
              "      <td>তিনি বলেছেন, “মানুষের যে ভোটের অধিকার সেটা হচ...</td>\n",
              "      <td>সংবিধানের দোহাই দিয়ে জনগণকে ‘অধিকারহীন’ করে র...</td>\n",
              "      <td>০৬-০১-২০১৮</td>\n",
              "      <td>রাজনীতি</td>\n",
              "      <td>bdnews24</td>\n",
              "      <td>২০১৮</td>\n",
              "    </tr>\n",
              "    <tr>\n",
              "      <th>1</th>\n",
              "      <td>শিবচর থানার পরিদর্শক (তদন্ত) শাজাহান মিয়া জান...</td>\n",
              "      <td>মাদারীপুরের শিবপুর উপজেলায় এক গৃহবধূকে ‘মেরে ...</td>\n",
              "      <td>০৯-০৮-২০১৮</td>\n",
              "      <td>বাংলাদেশ</td>\n",
              "      <td>bdnews24</td>\n",
              "      <td>২০১৮</td>\n",
              "    </tr>\n",
              "    <tr>\n",
              "      <th>2</th>\n",
              "      <td>আগামী ১৩ ও ১৪ মে কানাডার টরন্টো প্যাভিলিয়নে এ...</td>\n",
              "      <td>কানাডা প্রবাসী বাংলাদেশিদের আয়োজনে তৃতীয়বারের...</td>\n",
              "      <td>০৩-০৪-২০১৭</td>\n",
              "      <td>প্রবাস</td>\n",
              "      <td>bdnews24</td>\n",
              "      <td>২০১৭</td>\n",
              "    </tr>\n",
              "    <tr>\n",
              "      <th>3</th>\n",
              "      <td>দুটি যুব বিশ্বকাপে বাংলাদেশ দলের অধিনায়ক ছিলে...</td>\n",
              "      <td>২০১৬ যুব বিশ্বকাপে শেষ কোনো দলকে নেতৃত্ব দিয়ে...</td>\n",
              "      <td>০৫-০১-২০১৯</td>\n",
              "      <td>খেলা</td>\n",
              "      <td>bdnews24</td>\n",
              "      <td>২০১৯</td>\n",
              "    </tr>\n",
              "    <tr>\n",
              "      <th>4</th>\n",
              "      <td>'হ্যাঁ, অনেক আগে আমি গাঁজা সেবন করতাম। কিন্তু ...</td>\n",
              "      <td>গাঁজা সেবনের কথা স্বীকার করলেন নিউজিল্যান্ডের ...</td>\n",
              "      <td>১-১০-২০২০</td>\n",
              "      <td>আন্তর্জাতিক</td>\n",
              "      <td>kalerkantha</td>\n",
              "      <td>২০২০</td>\n",
              "    </tr>\n",
              "    <tr>\n",
              "      <th>...</th>\n",
              "      <td>...</td>\n",
              "      <td>...</td>\n",
              "      <td>...</td>\n",
              "      <td>...</td>\n",
              "      <td>...</td>\n",
              "      <td>...</td>\n",
              "    </tr>\n",
              "    <tr>\n",
              "      <th>373305</th>\n",
              "      <td>নারায়ণগঞ্জের বন্দরে একটি ভবনের সেপটিক ট্যাংক ব...</td>\n",
              "      <td>সেপটিক ট্যাংক বিস্ফোরণে আহত অন্তঃসত্ত্বা নারীর...</td>\n",
              "      <td>০৮-০৫-২০২০</td>\n",
              "      <td>বাংলাদেশ</td>\n",
              "      <td>jugantor</td>\n",
              "      <td>২০২০</td>\n",
              "    </tr>\n",
              "    <tr>\n",
              "      <th>373306</th>\n",
              "      <td>হেফাজতে ইসলামের কেন্দ্রীয় যুগ্ম মহাসচিব ও ঢাকা...</td>\n",
              "      <td>জোশের কারণে ওয়াজ মাহফিলে মানহানিকর বক্তব্য দি...</td>\n",
              "      <td>২০-০৪-২০২১</td>\n",
              "      <td>রাজনীতি</td>\n",
              "      <td>jugantor</td>\n",
              "      <td>২০২১</td>\n",
              "    </tr>\n",
              "    <tr>\n",
              "      <th>373307</th>\n",
              "      <td>সোমবার সকাল ৬টার দিকে রাজৈর উপজেলার বোলগ্রামে...</td>\n",
              "      <td>মাদারীপুরের রাজৈরে একটি পিকআপ ভ্যান খাদে পড়ে ...</td>\n",
              "      <td>২৬-১১-২০১৮</td>\n",
              "      <td>বাংলাদেশ</td>\n",
              "      <td>bdnews24</td>\n",
              "      <td>২০১৮</td>\n",
              "    </tr>\n",
              "    <tr>\n",
              "      <th>373308</th>\n",
              "      <td>জেলা শহরের পাটপট্রি পূজা মন্দির কমিটির লোকজন ...</td>\n",
              "      <td>করোনাভাইরাস সংক্রমণের মহামারীর মধ্যে হিন্দু স...</td>\n",
              "      <td>২৯-০৩-২০২০</td>\n",
              "      <td>বাংলাদেশ</td>\n",
              "      <td>bdnews24</td>\n",
              "      <td>২০২০</td>\n",
              "    </tr>\n",
              "    <tr>\n",
              "      <th>373309</th>\n",
              "      <td>মঙ্গলবার কুড়িগ্রাম শহরের সরদারপাড়ায় নিজ বাসভব...</td>\n",
              "      <td>বিএনপির সিনিয়র যুগ্ম মহাসচিব রুহুল কবির রিজভী...</td>\n",
              "      <td>১৪-১১-২০১৭</td>\n",
              "      <td>বাংলাদেশ</td>\n",
              "      <td>bdnews24</td>\n",
              "      <td>২০১৭</td>\n",
              "    </tr>\n",
              "  </tbody>\n",
              "</table>\n",
              "<p>373310 rows × 6 columns</p>\n",
              "</div>"
            ],
            "text/plain": [
              "                                                Full_Text  ...  Year\n",
              "0        তিনি বলেছেন, “মানুষের যে ভোটের অধিকার সেটা হচ...  ...  ২০১৮\n",
              "1        শিবচর থানার পরিদর্শক (তদন্ত) শাজাহান মিয়া জান...  ...  ২০১৮\n",
              "2        আগামী ১৩ ও ১৪ মে কানাডার টরন্টো প্যাভিলিয়নে এ...  ...  ২০১৭\n",
              "3        দুটি যুব বিশ্বকাপে বাংলাদেশ দলের অধিনায়ক ছিলে...  ...  ২০১৯\n",
              "4       'হ্যাঁ, অনেক আগে আমি গাঁজা সেবন করতাম। কিন্তু ...  ...  ২০২০\n",
              "...                                                   ...  ...   ...\n",
              "373305  নারায়ণগঞ্জের বন্দরে একটি ভবনের সেপটিক ট্যাংক ব...  ...  ২০২০\n",
              "373306  হেফাজতে ইসলামের কেন্দ্রীয় যুগ্ম মহাসচিব ও ঢাকা...  ...  ২০২১\n",
              "373307   সোমবার সকাল ৬টার দিকে রাজৈর উপজেলার বোলগ্রামে...  ...  ২০১৮\n",
              "373308   জেলা শহরের পাটপট্রি পূজা মন্দির কমিটির লোকজন ...  ...  ২০২০\n",
              "373309   মঙ্গলবার কুড়িগ্রাম শহরের সরদারপাড়ায় নিজ বাসভব...  ...  ২০১৭\n",
              "\n",
              "[373310 rows x 6 columns]"
            ]
          },
          "metadata": {
            "tags": []
          },
          "execution_count": 8
        }
      ]
    },
    {
      "cell_type": "code",
      "metadata": {
        "colab": {
          "base_uri": "https://localhost:8080/"
        },
        "id": "0OONhDP5vAgM",
        "outputId": "a241d987-0e03-486c-ed3a-82ab93b3586c"
      },
      "source": [
        "'''#drop Summary Field\n",
        "articles.drop('Summary', inplace=True, axis=1)\n",
        "articles.reset_index(drop=True)\n",
        "articles'''\n",
        "articles.dropna(inplace=True)\n",
        "articles.reset_index(drop=True, inplace=True)\n",
        "articles.isnull().sum()"
      ],
      "execution_count": null,
      "outputs": [
        {
          "output_type": "execute_result",
          "data": {
            "text/plain": [
              "Full_Text    0\n",
              "Headline     0\n",
              "Date         0\n",
              "Topic        0\n",
              "Source       0\n",
              "Year         0\n",
              "dtype: int64"
            ]
          },
          "metadata": {
            "tags": []
          },
          "execution_count": 9
        }
      ]
    },
    {
      "cell_type": "code",
      "metadata": {
        "colab": {
          "base_uri": "https://localhost:8080/"
        },
        "id": "mWbJ2VNGvDgu",
        "outputId": "bc199dbc-56f9-418a-a638-ddee0ca0906f"
      },
      "source": [
        "random.seed(42)\n",
        "bangla_news_list = articles.Full_Text.to_list()\n",
        "print(bangla_news_list[31])\n",
        "random.shuffle(bangla_news_list)\n",
        "print(bangla_news_list[31])"
      ],
      "execution_count": null,
      "outputs": [
        {
          "output_type": "stream",
          "text": [
            "প্রধানমন্ত্রী শেখ হাসিনা দক্ষিণ এশিয়ার জন্য গ্লোবাল সেন্টার অন অ্যাডাপ্টেশন (জিসিএ) বাংলাদেশ আঞ্চলিক কার্যালয় আনুষ্ঠানিক উদ্বোধন করবেন।মঙ্গলবার বিকাল সাড়ে ৩টায় এই অনুষ্ঠানে অভিযোজন সম্পর্কিত গ্লোবাল সেন্টার বোর্ডের চেয়ারম্যান এবং জাতিসংঘের সাবেক মহাসচিব বান কি মুন উপস্থিত থাকবেন।দক্ষিণ এশীয় দেশগুলোর মন্ত্রীদের পাশাপাশি গ্লোবাল সেন্টার অন অ্যাডাপ্টেশনের প্রধান নির্বাহী কর্মকর্তা প্যাট্রিক ভারকুইজেন বক্তব্য রাখবেন বলেও পরিবেশ, বন ও জলবায়ু পরিবর্তন বিষয়ক মন্ত্রণালয়ের সংবাদ বিজ্ঞপ্তিতে জানিয়েছেন।আঞ্চলিক গ্লোবাল সেন্টার অন অ্যাডাপ্টেশন বাংলাদেশ’র ভার্চুয়াল উদ্বোধন অনুষ্ঠানের পর পরিবেশ, বন ও জলবায়ু পরিবর্তন বিষয়ক মন্ত্রণালয় একটি সাংবাদিক সম্মেলনের আয়োজন করবে। এতে পররাষ্ট্রমন্ত্রী ড. এ. কে আবদুল মোমেন এবং পরিবেশ, বন ও জলবায়ু পরিবর্তন বিষয়ক মন্ত্রী শাহাব উদ্দিন বক্তব্য রাখবেন।পরে দক্ষিণ এশিয়ার বিশেষজ্ঞ, শিক্ষাবিদ এবং জলবায়ু পরিবর্তন নিয়ে কর্মরত বৈশ্বিক সংস্থার প্রতিনিধিরা জিসিএ সাউথ এশিয়া পার্টনারশিপ ফোরামে অংশ নেবেন।প্যানেল আলোচনার পর ক্লাইমেট ভালনারেবল ফোরামের থিমেটিক অ্যাম্বেসেডর সায়মা ওয়াজেদ হোসেন ইয়ুথ অ্যাডাপ্টেশন নেটওয়ার্কের উদ্বোধন করবেন।\n",
            " গত শুক্রবার রাজধানী কায়রোসহ বিভিন্ন শহরে রাস্তায় রাস্তায় সিসির পদত্যাগের দাবিতে মানুষ বিক্ষোভ করার পর থেকে এ পর্যন্ত গ্রেপ্তার হয়েছে অন্তত ১ হাজার ৯০০ জন। মানবাধিকার বিষয়ক একটি পর্যবেক্ষক গোষ্ঠীর প্রধান জামাল ঈদ বৃহস্পতিবার এ তথ্য জানিয়েছেন। তিনি বলেন, গত শুক্রবার থেকে বুধবারের মধ্যে এতগুলো মানুষকে গ্রেপ্তার করা হয়েছে। কিন্তু এ ব্যাপক ধরপাকড়ের মধ্যেও এ সপ্তাহে ফের শুক্রবারেই একই ধরনের বিক্ষোভের ডাক দিয়েছে মিশরীয়রা। ওদিকে, সরকারের সমর্থকরাও এদিন প্রেসিডেন্ট সিসি’র সমর্থনে পাল্টা সমাবেশ করার পরিকল্পনা করেছে। বিক্ষোভ দমনে তৎপর হচ্ছে নিরাপত্তা বাহিনীও। নগরীর প্রধান প্রধান চত্বরে এবং প্রধান নগরীগুলোতে বাড়ানো হচ্ছে নিরাপত্তা। চলছে তল্লাশি। মিশরে অনুমোদন ছাড়া বিক্ষোভের ওপর জারি থাকা নিষেধাজ্ঞা অগ্রাহ্য করে গত শুক্রবার সিসি সরকারের দুর্নীতির বিরুদ্ধে দেশজুড়ে মানুষ বিক্ষোভ করেছে। সুয়েজ নগরীতে শনিবারও বিক্ষোভ হয়। ২০১৪ সালে সিসির হাতে শাসনভার যাওয়ার পর এবারই প্রথম তার পদত্যাগের দাবিতে জনগণ বিক্ষোভ দেখিয়েছে। স্পেনে থাকা মিশরীয় ব্যবসায়ী আলী গত ২ সেপ্টেম্বর প্রথম সিসি সরকারের বিরুদ্ধে অভিযোগ সম্বলিত ভিডিও পোস্ট করে বিক্ষোভ ডাকার পর তাতে সাড়া দেয় মানুষ। মিশরে গণতান্ত্রিকভাবে নির্বাচিত প্রথম প্রেসিডেন্ট মোহাম্মদ মুরসির বিরুদ্ধে গণ-আন্দোলনের সূত্র ধরে ২০১৩ সালে সিসি নেতৃত্বাধীন সামরিক বাহিনী তৎকালীন সরকারকে ক্ষমতাচ্যুত করে। এরপর থেকে বিরোধীদের ওপর তীব্র দমন-পীড়ন চালিয়ে সিসি নজিরবিহীভাবে ক্ষমতা কুক্ষিগত করে রেখেছেন বলে ভাষ্য মানবাধিকার সংগঠনগুলোর।\n"
          ],
          "name": "stdout"
        }
      ]
    },
    {
      "cell_type": "markdown",
      "metadata": {
        "id": "3RurYs6MuQaj"
      },
      "source": [
        "# Pre-process"
      ]
    },
    {
      "cell_type": "code",
      "metadata": {
        "id": "R6V7Mps6uBxm"
      },
      "source": [
        "stopwords_2 = \"অবশ্য অনেক অনেকে অনেকেই অন্তত অথবা অথচ অর্থাত অন্য আজ আছে আপনার আপনি আবার আমরা আমাকে আমাদের আমার আমি আরও আর আগে আগেই আই অতএব আগামী অবধি অনুযায়ী আদ্যভাগে এই একই একে একটি এখন এখনও এখানে এখানেই এটি এটা এটাই এতটাই এবং একবার এবার এদের এঁদের এমন এমনকী এল এর এরা এঁরা এস এত এতে এসে একে এক এ ঐ ই ইহা ইত্যাদি উনি উপর উপরে উচিত ও ওই ওর ওরা ওঁর ওঁরা ওকে ওদের ওঁদের ওখানে কত কবে করতে কয়েক কয়েকটি করবে করলেন করার কারও করা করি করিয়ে করার করাই করলে করলেন করিতে করিয়া করেছিলেন করছে করছেন করেছেন করেছে করেন করবেন করায় করে করেই কাছ কাছে কাজে কারণ কিছু কিছুই কিন্তু কিংবা কি কী কেউ কেউই কাউকে কেন কে কোনও কোনো কোন কখনও ক্ষেত্রে খুব গুলি গিয়ে গিয়েছে গেছে গেল গেলে গোটা চলে ছাড়া ছাড়াও ছিলেন ছিল জন্য জানা ঠিক তিনি তিনঐ তিনিও তখন তবে তবু তাঁদের তাঁাহারা তাঁরা তাঁর তাঁকে তাই তেমন তাকে তাহা তাহাতে তাহার তাদের তারপর তারা তারৈ তার তাহলে তিনি তা তাও তাতে তো তত তুমি তোমার তথা থাকে থাকা থাকায় থেকে থেকেও থাকবে থাকেন থাকবেন থেকেই দিকে দিতে দিয়ে দিয়েছে দিয়েছেন দিলেন দু দুটি দুটো দেয় দেওয়া দেওয়ার দেখা দেখে দেখতে দ্বারা ধরে ধরা নয় নানা না নাকি নাগাদ নিতে নিজে নিজেই নিজের নিজেদের নিয়ে নেওয়া নেওয়ার নেই নাই পক্ষে পর্যন্ত পাওয়া পারেন পারি পারে পরে পরেই পরেও পর পেয়ে প্রতি প্রভৃতি প্রায় ফের ফলে ফিরে ব্যবহার বলতে বললেন বলেছেন বলল বলা বলেন বলে বহু বসে বার বা বিনা বরং বদলে বাদে বার বিশেষ বিভিন্ন বিষয়টি ব্যবহার ব্যাপারে ভাবে ভাবেই মধ্যে মধ্যেই মধ্যেও মধ্যভাগে মাধ্যমে মাত্র মতো মতোই মোটেই যখন যদি যদিও যাবে যায় যাকে যাওয়া যাওয়ার যত যতটা যা যার যারা যাঁর যাঁরা যাদের যান যাচ্ছে যেতে যাতে যেন যেমন যেখানে যিনি যে রেখে রাখা রয়েছে রকম শুধু সঙ্গে সঙ্গেও সমস্ত সব সবার সহ সুতরাং সহিত সেই সেটা সেটি সেটাই সেটাও সম্প্রতি সেখান সেখানে সে স্পষ্ট স্বয়ং হইতে হইবে হৈলে হইয়া হচ্ছে হত হতে হতেই হবে হবেন হয়েছিল হয়েছে হয়েছেন হয়ে হয়নি হয় হয়েই হয়তো হল হলে হলেই হলেও হলো হিসাবে হওয়া হওয়ার হওয়ায় হন হোক জন জনকে জনের জানতে জানায় জানিয়ে জানানো জানিয়েছে জন্য জন্যওজে জে বেশ দেন তুলে ছিলেন চান চায় চেয়ে মোট যথেষ্ট টি অতএব অথচ অথবা অনুযায়ী অনেক অনেকে অনেকেই অন্তত অন্য অবধি অবশ্য অর্থাত আই আগামী আগে আগেই আছে আজ আদ্যভাগে আপনার আপনি আবার আমরা আমাকে আমাদের আমার আমি আর আরও ই ইত্যাদি ইহা উচিত উত্তর উনি উপর উপরে এ এঁদের এঁরা এই একই একটি একবার একে এক্ এখন এখনও এখানে এখানেই এটা এটাই এটি এত এতটাই এতে এদের এব এবং এবার এমন এমনকী এমনি এর এরা এল এস এসে ঐ ও ওঁদের ওঁর ওঁরা ওই ওকে ওখানে ওদের ওর ওরা কখনও কত কবে কমনে কয়েক কয়েকটি করছে করছেন করতে করবে করবেন করলে করলেন করা করাই করায় করার করি করিতে করিয়া করিয়ে থাকবেন থাকা থাকায় থাকে থাকেন থেকে থেকেই থেকেও দিকে দিতে দিন দিয়ে দিয়েছে দিয়েছেন দিলেন দু দুই দুটি দুটো দেওয়া দেওয়ার দেওয়া দেখতে দেখা দেখে দেন দেয় দ্বারা ধরা ধরে ধামার নতুন নয় না নাই নাকি নাগাদ নানা নিজে নিজেই নিজেদের নিজের নিতে নিয়ে নিয়ে নেই নেওয়া নেওয়ার নেওয়া নয় পক্ষে পর পরে পরেই পরেও পর্যন্ত পাওয়া পাচ পারি পারে পারেন পি পেয়ে পেয়্র্ প্রতি প্রথম প্রভৃতি প্রযন্ত প্রাথমিক প্রায় প্রায় ফলে ফিরে ফের বক্তব্য বদলে বন বরং বলতে বলল বললেন বলা বলে বলেছেন বলেন বসে হু বা বাদে বার বি বিনা বিভিন্ন বিশেষ বিষয়টি  বেশ বেশি ব্যবহার ব্যাপারে ভাবে ভাবেই মতো মতোই মধ্যভাগে মধ্যে মধ্যেই মধ্যেও মনে মাত্র মাধ্যমে মোট মোটেই যখন যত যতটা যথেষ্ট যদি যদিও যা যাঁর যাঁরা যাওয়া যাওয়ার যাওয়া যাকে যাচ্ছে যাতে যাদের যান যাবে যায় যার যারা যিনি যে যেখানে যেতে যেন যেমন র রকম রয়েছে রাখা রেখে লক্ষ শুধু শুরু সঙ্গে সঙ্গেও সব সবার সমস্ত সম্প্রতি সহ সহিত সাধারণ সামনে সি সুতরাং সে সেই নয় না হয় হয়ে হয়েছে হয়েছিলেন । , - ; ঃ মিথ্যা শুরু\""
      ],
      "execution_count": null,
      "outputs": []
    },
    {
      "cell_type": "code",
      "metadata": {
        "colab": {
          "base_uri": "https://localhost:8080/"
        },
        "id": "HIekHSFluHkN",
        "outputId": "70c9c691-8673-476b-daa5-967b93e97772"
      },
      "source": [
        "stopwords = []\n",
        "\n",
        "for word in stopwords_1:\n",
        "  if word not in stopwords:\n",
        "    stopwords.append(word)\n",
        "\n",
        "for word in stopwords_2.split():\n",
        "  if word not in stopwords:\n",
        "    stopwords.append(word)\n",
        "\n",
        "len(stopwords)"
      ],
      "execution_count": null,
      "outputs": [
        {
          "output_type": "execute_result",
          "data": {
            "text/plain": [
              "445"
            ]
          },
          "metadata": {
            "tags": []
          },
          "execution_count": 9
        }
      ]
    },
    {
      "cell_type": "code",
      "metadata": {
        "id": "A6KAJr5txwdF"
      },
      "source": [
        "def preprocess_BN(text, stop_words=None):\n",
        "  #text = text.split()\n",
        "  text = re.sub(r'https?:\\/\\/.*[\\r\\n]*', '', text, flags=re.MULTILINE)\n",
        "  text = re.sub(r'\\<a href', ' ', text)\n",
        "  text = re.sub(r'&amp;', '', text) \n",
        "  text = re.sub(r'[_\"\\-;%()|+&=*%.,!?:#$@\\[\\]/]', ' ', text)\n",
        "  text = re.sub(r'<br />', ' ', text)\n",
        "  text = re.sub(r'\\'', ' ', text)\n",
        "  text = re.sub(r'।', ' ', text)\n",
        "  text = re.sub(r'[‘’]', ' ', text)\n",
        "  text = re.sub(r'[০১২৩৪৫৬৭৮৯123456789]', ' ', text)\n",
        "  text = re.sub(r'[a-zA-Z]', ' ', text)\n",
        "  #text = \" \".join(text)\n",
        "  \n",
        "  #print(\"In PP (before stopwords): {}\".format(text))\n",
        "  '''text = text.split(' ')\n",
        "  text = [word for word in text if word not in stopwords]'''\n",
        "  \n",
        "  tokenizer = Tokenizers()\n",
        "  stemmer = RafiStemmer()\n",
        "\n",
        "  #stop_words = load_stop_word()\n",
        "  \n",
        "\n",
        "  doc_token = []\n",
        "\n",
        "  if isinstance(text, str):\n",
        "      for token in tokenizer.bn_word_tokenizer(text):\n",
        "          if token not in stop_words and len(token) >= 3:\n",
        "              stemmed_token = stemmer.stem_word(token)\n",
        "              if len(stemmed_token) >= 2 and stemmed_token not in stop_words:\n",
        "                  doc_token.append(stemmed_token)\n",
        "\n",
        "\n",
        "  #text = remove_stopwords(text, stopwords=stopwords)\n",
        "\n",
        "  '''if isinstance(text, str):\n",
        "    text = text.split()\n",
        "  text = stemming_docs(text)'''\n",
        "  #print(text)\n",
        "  return \" \".join(doc_token)"
      ],
      "execution_count": null,
      "outputs": []
    },
    {
      "cell_type": "code",
      "metadata": {
        "id": "rK0f9aLex3hl"
      },
      "source": [
        "# remove symbols, punctuations, and stopwords\n",
        "\n",
        "pp_bangla_news_list = []\n",
        "for bangla_news in bangla_news_list:\n",
        "  #print(\"Type: {}\".format(type(str(bangla_news))))\n",
        "  #print(\"Before PP: {}\".format(bangla_news))\n",
        "  pp_bangla_news_list.append(preprocess_BN(bangla_news, stopwords))\n",
        "  #print(\"After PP: {}\\n\\n\".format(pp_bangla_news_list[-1]))"
      ],
      "execution_count": null,
      "outputs": []
    },
    {
      "cell_type": "code",
      "metadata": {
        "colab": {
          "base_uri": "https://localhost:8080/"
        },
        "id": "F3S-ZWPPOYd-",
        "outputId": "77abc311-025a-49ae-86ba-e96b7670747d"
      },
      "source": [
        "%cache bangla_news_list = bangla_news_list"
      ],
      "execution_count": null,
      "outputs": [
        {
          "output_type": "stream",
          "text": [
            "Loading cached value for variable 'bangla_news_list'. Time since caching: 3 days, 13:23:26.979370\n"
          ],
          "name": "stdout"
        }
      ]
    },
    {
      "cell_type": "code",
      "metadata": {
        "colab": {
          "base_uri": "https://localhost:8080/"
        },
        "id": "dXiICjE_CNgP",
        "outputId": "32693466-2002-441a-a9e0-98b599dd426d"
      },
      "source": [
        "%cache pp_bangla_news_list = pp_bangla_news_list"
      ],
      "execution_count": null,
      "outputs": [
        {
          "output_type": "stream",
          "text": [
            "Loading cached value for variable 'pp_bangla_news_list'. Time since caching: 3 days, 22:45:35.748597\n"
          ],
          "name": "stdout"
        }
      ]
    },
    {
      "cell_type": "code",
      "metadata": {
        "colab": {
          "base_uri": "https://localhost:8080/"
        },
        "id": "ImwF_D0XIe8e",
        "outputId": "e338f63b-2d81-449c-b72b-77785ba9ad0f"
      },
      "source": [
        "len(pp_bangla_news_list)"
      ],
      "execution_count": null,
      "outputs": [
        {
          "output_type": "execute_result",
          "data": {
            "text/plain": [
              "373310"
            ]
          },
          "metadata": {
            "tags": []
          },
          "execution_count": 11
        }
      ]
    },
    {
      "cell_type": "code",
      "metadata": {
        "id": "Cs9LEathyfrA"
      },
      "source": [
        "for i in range(500,505):\n",
        "  print(\"Before PP: {}\".format(bangla_news_list[i]))\n",
        "  print(\"After PP: {}\\n\\n\".format(pp_bangla_news_list[i]))"
      ],
      "execution_count": null,
      "outputs": []
    },
    {
      "cell_type": "code",
      "metadata": {
        "id": "-nKAa7q4RMqf"
      },
      "source": [
        "import regex \n",
        "\n",
        "def custom_analyzer(text):\n",
        "    words = regex.findall(r'\\w{2,}', text) # extract words of at least 2 letters\n",
        "    for w in words:\n",
        "        yield w"
      ],
      "execution_count": null,
      "outputs": []
    },
    {
      "cell_type": "markdown",
      "metadata": {
        "id": "gdNfvk2es769"
      },
      "source": [
        "# LDA Model"
      ]
    },
    {
      "cell_type": "code",
      "metadata": {
        "id": "hES3sJFes-TE"
      },
      "source": [
        "import re\n",
        "import numpy as np\n",
        "import pandas as pd\n",
        "from pprint import pprint\n",
        "\n",
        "# Gensim\n",
        "import gensim\n",
        "import gensim.corpora as corpora\n",
        "from gensim.utils import simple_preprocess\n",
        "from gensim.models import CoherenceModel\n",
        "\n",
        "# spacy for lemmatization\n",
        "import spacy\n",
        "\n",
        "# Plotting tools\n",
        "'''import pyLDAvis\n",
        "import pyLDAvis.gensim_models  # don't skip this\n",
        "import matplotlib.pyplot as plt'''\n",
        "%matplotlib inline\n",
        "\n",
        "# Enable logging for gensim - optional\n",
        "import logging\n",
        "logging.basicConfig(format='%(asctime)s : %(levelname)s : %(message)s', level=logging.ERROR)\n",
        "\n",
        "import warnings\n",
        "warnings.filterwarnings(\"ignore\",category=DeprecationWarning)"
      ],
      "execution_count": null,
      "outputs": []
    },
    {
      "cell_type": "code",
      "metadata": {
        "id": "GvOEZ07xmLxM"
      },
      "source": [
        "def preprocess_BN_wo_stem(text, stop_words=None):\n",
        "  #text = text.split()\n",
        "  text = re.sub(r'https?:\\/\\/.*[\\r\\n]*', '', text, flags=re.MULTILINE)\n",
        "  text = re.sub(r'\\<a href', ' ', text)\n",
        "  text = re.sub(r'&amp;', '', text) \n",
        "  text = re.sub(r'[_\"\\-;%()|+&=*%.,!?:#$@\\[\\]/]', ' ', text)\n",
        "  text = re.sub(r'<br />', ' ', text)\n",
        "  text = re.sub(r'\\'', ' ', text)\n",
        "  text = re.sub(r'।', ' ', text)\n",
        "  text = re.sub(r'[‘’]', ' ', text)\n",
        "  text = re.sub(r'[০১২৩৪৫৬৭৮৯123456789]', ' ', text)\n",
        "  text = re.sub(r'[a-zA-Z]', ' ', text)\n",
        "  #text = \" \".join(text)\n",
        "  \n",
        "  #print(\"In PP (before stopwords): {}\".format(text))\n",
        "  '''text = text.split(' ')\n",
        "  text = [word for word in text if word not in stopwords]'''\n",
        "  \n",
        "  tokenizer = Tokenizers()\n",
        "  stemmer = RafiStemmer()\n",
        "\n",
        "  #stop_words = load_stop_word()\n",
        "  \n",
        "\n",
        "  doc_token = []\n",
        "\n",
        "  if isinstance(text, str):\n",
        "    for token in tokenizer.bn_word_tokenizer(text):\n",
        "      if token not in stop_words and len(token) >= 3:\n",
        "        doc_token.append(token)\n",
        "\n",
        "\n",
        "  #text = remove_stopwords(text, stopwords=stopwords)\n",
        "\n",
        "  '''if isinstance(text, str):\n",
        "    text = text.split()\n",
        "  text = stemming_docs(text)'''\n",
        "  #print(text)\n",
        "  return \" \".join(doc_token)"
      ],
      "execution_count": null,
      "outputs": []
    },
    {
      "cell_type": "code",
      "metadata": {
        "colab": {
          "base_uri": "https://localhost:8080/",
          "height": 36
        },
        "id": "5k8QSZQnkK7s",
        "outputId": "a0d9a3df-cb6f-461a-f31e-41446c81b3dd"
      },
      "source": [
        "preprocess_BN(\"পানির অপর নাম জীবন। পানি ছাড়া যেকোন প্রাণীর জীবন ধারণ অসম্ভব। তবে প্রয়োজনের বেশি পানি খেলে তৈরি হতে পারে সমস্যা।\", stop_words=stopwords)"
      ],
      "execution_count": null,
      "outputs": [
        {
          "output_type": "execute_result",
          "data": {
            "application/vnd.google.colaboratory.intrinsic+json": {
              "type": "string"
            },
            "text/plain": [
              "'পানির অপর নাম জীবন পানি যেকোন প্রাণীর জীবন ধারণ অসম্ভব প্রয়োজন পানি খেল তৈরি সমস্যা'"
            ]
          },
          "metadata": {
            "tags": []
          },
          "execution_count": 16
        }
      ]
    },
    {
      "cell_type": "code",
      "metadata": {
        "id": "ZsZuJflaNIJd"
      },
      "source": [
        "tokenized_corpus = []\n",
        "for doc in pp_bangla_news_list[:100000]:\n",
        "  tokenized_corpus.append(list(custom_analyzer(doc)))"
      ],
      "execution_count": null,
      "outputs": []
    },
    {
      "cell_type": "code",
      "metadata": {
        "id": "S_6PP1Srx_Iv"
      },
      "source": [
        "tokenized_corpus = []\n",
        "tokenized_corpus.append(list(custom_analyzer('পানি অপর নাম জীবন পানি যেকোন প্রাণীর জীবন ধারণ অসম্ভব প্রয়োজন বেশি পানি খেল সমস্যা')))"
      ],
      "execution_count": null,
      "outputs": []
    },
    {
      "cell_type": "code",
      "metadata": {
        "colab": {
          "base_uri": "https://localhost:8080/"
        },
        "id": "JpACu79CyhtY",
        "outputId": "9c01d70b-3fa3-4eeb-d3a7-94e9b10c14bb"
      },
      "source": [
        "tokenized_corpus"
      ],
      "execution_count": null,
      "outputs": [
        {
          "output_type": "execute_result",
          "data": {
            "text/plain": [
              "[['পানি',\n",
              "  'অপর',\n",
              "  'নাম',\n",
              "  'জীবন',\n",
              "  'পানি',\n",
              "  'যেকোন',\n",
              "  'প্রাণীর',\n",
              "  'জীবন',\n",
              "  'ধারণ',\n",
              "  'অসম্ভব',\n",
              "  'প্রয়োজন',\n",
              "  'বেশি',\n",
              "  'পানি',\n",
              "  'খেল',\n",
              "  'সমস্যা']]"
            ]
          },
          "metadata": {
            "tags": []
          },
          "execution_count": 21
        }
      ]
    },
    {
      "cell_type": "code",
      "metadata": {
        "colab": {
          "base_uri": "https://localhost:8080/",
          "height": 36
        },
        "id": "dRHj3ztA0Ctw",
        "outputId": "44b04644-2741-4cf8-85e6-bb44b6208432"
      },
      "source": [
        "id2word[2]"
      ],
      "execution_count": null,
      "outputs": [
        {
          "output_type": "execute_result",
          "data": {
            "application/vnd.google.colaboratory.intrinsic+json": {
              "type": "string"
            },
            "text/plain": [
              "'খেল'"
            ]
          },
          "metadata": {
            "tags": []
          },
          "execution_count": 32
        }
      ]
    },
    {
      "cell_type": "code",
      "metadata": {
        "colab": {
          "base_uri": "https://localhost:8080/"
        },
        "id": "UUU1Hs_-tNg2",
        "outputId": "6dd20b0c-06a4-488a-9dca-c3f8ce2ecf99"
      },
      "source": [
        "# Create Dictionary\n",
        "id2word = corpora.Dictionary(tokenized_corpus)\n",
        "\n",
        "# Create Corpus\n",
        "texts = tokenized_corpus\n",
        "\n",
        "# Term Document Frequency\n",
        "corpus = [id2word.doc2bow(text) for text in texts]\n",
        "\n",
        "# View\n",
        "print(corpus[:1])"
      ],
      "execution_count": null,
      "outputs": [
        {
          "output_type": "stream",
          "text": [
            "[[(0, 1), (1, 3), (2, 1), (3, 1), (4, 1), (5, 1), (6, 1), (7, 1), (8, 1), (9, 1), (10, 1), (11, 2), (12, 1), (13, 3), (14, 2), (15, 2), (16, 1), (17, 1), (18, 1), (19, 1), (20, 1), (21, 2), (22, 1), (23, 1), (24, 1), (25, 1), (26, 1), (27, 1), (28, 1), (29, 1), (30, 3), (31, 1), (32, 1), (33, 1), (34, 1), (35, 1), (36, 1), (37, 1), (38, 2), (39, 1), (40, 2), (41, 1), (42, 1), (43, 1), (44, 1), (45, 1), (46, 1), (47, 1), (48, 1), (49, 2), (50, 1), (51, 1), (52, 1), (53, 1), (54, 1), (55, 1), (56, 2), (57, 1), (58, 1), (59, 2), (60, 4), (61, 1), (62, 3), (63, 1), (64, 1), (65, 1), (66, 1), (67, 1), (68, 1), (69, 4), (70, 4), (71, 2), (72, 1), (73, 1), (74, 1), (75, 1), (76, 1), (77, 1), (78, 1), (79, 1), (80, 1), (81, 1), (82, 1), (83, 1), (84, 1), (85, 8), (86, 1), (87, 2), (88, 1), (89, 1), (90, 1), (91, 1), (92, 1), (93, 1), (94, 3), (95, 1), (96, 1), (97, 1), (98, 1), (99, 1), (100, 1), (101, 1), (102, 1), (103, 2), (104, 2), (105, 1), (106, 3), (107, 2), (108, 1), (109, 1), (110, 1), (111, 1), (112, 1), (113, 1), (114, 1), (115, 1), (116, 1), (117, 1)]]\n"
          ],
          "name": "stdout"
        }
      ]
    },
    {
      "cell_type": "code",
      "metadata": {
        "id": "KMpbI3M_NU01"
      },
      "source": [
        "# Build LDA model\n",
        "lda_model = gensim.models.ldamulticore.LdaMulticore(corpus=corpus,\n",
        "                                           id2word=id2word,\n",
        "                                           num_topics=20, \n",
        "                                           random_state=100,\n",
        "                                           eval_every=10,\n",
        "                                           chunksize=10000,\n",
        "                                           passes=150,\n",
        "                                           per_word_topics=True,\n",
        "                                           workers=3)"
      ],
      "execution_count": null,
      "outputs": []
    },
    {
      "cell_type": "code",
      "metadata": {
        "id": "FI5KAttfOHbM"
      },
      "source": [
        "from gensim.test.utils import datapath\n",
        "\n",
        "# Save model to disk.\n",
        "\n",
        "temp_file = datapath(\"/content/drive/My Drive/THESIS/LDA/ldamodel/lda_model\")\n",
        "\n",
        "lda_model.save(temp_file)"
      ],
      "execution_count": null,
      "outputs": []
    },
    {
      "cell_type": "code",
      "metadata": {
        "id": "vpRB9furn9HW"
      },
      "source": [
        "# Load a potentially pretrained model from disk.\n",
        "from gensim.test.utils import datapath\n",
        "temp_file = datapath(\"/content/drive/My Drive/THESIS/LDA/ldamodel/lda_model\")\n",
        "\n",
        "lda_model = gensim.models.LdaModel.load(temp_file)"
      ],
      "execution_count": null,
      "outputs": []
    },
    {
      "cell_type": "code",
      "metadata": {
        "colab": {
          "base_uri": "https://localhost:8080/"
        },
        "id": "gu9WYVVExH3d",
        "outputId": "0f59595f-57d0-49aa-a5a3-22e22ed0e910"
      },
      "source": [
        "NUM_TOPICS = 20\n",
        "\n",
        "for idx in range(NUM_TOPICS):\n",
        "        # Print the first 10 most representative topics\n",
        "    print(\"Topic #%s:\" % idx, lda_model.print_topic(idx, 10))"
      ],
      "execution_count": null,
      "outputs": [
        {
          "output_type": "stream",
          "text": [
            "Topic #0: 0.016*\"মানুষ\" + 0.012*\"বছর\" + 0.010*\"নারী\" + 0.010*\"শিশু\" + 0.007*\"পড়\" + 0.006*\"সম\" + 0.006*\"নাম\" + 0.005*\"মা\" + 0.005*\"গবেষণা\" + 0.004*\"সাল\"\n",
            "Topic #1: 0.023*\"মামলা\" + 0.021*\"পুলিশ\" + 0.015*\"অভিযোগ\" + 0.012*\"বিরুদ্ধ\" + 0.010*\"আসামি\" + 0.010*\"আদালত\" + 0.009*\"মামল\" + 0.008*\"তদন্ত\" + 0.008*\"গ্রেপ্ত\" + 0.008*\"আদাল\"\n",
            "Topic #2: 0.015*\"পুলিশ\" + 0.012*\"হামলা\" + 0.010*\"ঘটনা\" + 0.007*\"হামল\" + 0.007*\"দা\" + 0.006*\"বিক্ষোভ\" + 0.006*\"নিহত\" + 0.006*\"বিরুদ্ধ\" + 0.006*\"পাকিস্তান\" + 0.005*\"অভিযোগ\"\n",
            "Topic #3: 0.010*\"খাব\" + 0.009*\"শরীর\" + 0.009*\"পানি\" + 0.008*\"রাখ\" + 0.007*\"সমস্যা\" + 0.006*\"সম\" + 0.006*\"করুন\" + 0.006*\"ভালো\" + 0.006*\"চুল\" + 0.006*\"ত্বক\"\n",
            "Topic #4: 0.017*\"ট্রাম্প\" + 0.012*\"প্রেসিডেন্ট\" + 0.012*\"যুক্তরাষ্ট্র\" + 0.011*\"প্রতিষ্ঠান\" + 0.011*\"মার্কিন\" + 0.006*\"তথ্য\" + 0.006*\"বছর\" + 0.006*\"অ্যাপ\" + 0.006*\"সাল\" + 0.006*\"ফোন\"\n",
            "Topic #5: 0.013*\"ভালো\" + 0.012*\"কথা\" + 0.008*\"সম\" + 0.007*\"জীবন\" + 0.007*\"আপনা\" + 0.006*\"মানুষ\" + 0.005*\"আস\" + 0.005*\"করুন\" + 0.005*\"শুভ\" + 0.004*\"থাক\"\n",
            "Topic #6: 0.027*\"করোনা\" + 0.027*\"করোনাভাইরাস\" + 0.026*\"আক্রান্ত\" + 0.020*\"হাসপাতাল\" + 0.019*\"দেশ\" + 0.015*\"স্বাস্থ্য\" + 0.012*\"রোগী\" + 0.012*\"মৃত্যু\" + 0.011*\"সংক্রমণ\" + 0.011*\"সংখ্যা\"\n",
            "Topic #7: 0.016*\"শিক্ষার্থী\" + 0.012*\"বিভাগ\" + 0.012*\"শিক্ষক\" + 0.009*\"পরীক্ষা\" + 0.009*\"বিশ্ববিদ্যালয়\" + 0.008*\"শিক্ষা\" + 0.008*\"আবেদন\" + 0.007*\"কমি\" + 0.007*\"বিশ্ববিদ্যাল\" + 0.007*\"কলেজ\"\n",
            "Topic #8: 0.025*\"দেশ\" + 0.014*\"চীন\" + 0.011*\"ভারত\" + 0.010*\"যুক্তরাষ্ট্র\" + 0.010*\"বাংলাদেশ\" + 0.010*\"বিমান\" + 0.009*\"রোহিঙ্গা\" + 0.008*\"সৌদি\" + 0.007*\"ইরান\" + 0.006*\"আন্তর্জাতিক\"\n",
            "Topic #9: 0.024*\"ম্যাচ\" + 0.021*\"গোল\" + 0.014*\"দল\" + 0.012*\"লিগ\" + 0.011*\"মিনিট\" + 0.010*\"ফুটবল\" + 0.010*\"মাঠ\" + 0.009*\"ক্লাব\" + 0.008*\"পয়েন্ট\" + 0.008*\"শেষ\"\n",
            "Topic #10: 0.021*\"গান\" + 0.014*\"চলচ্চিত্র\" + 0.009*\"সিনেমা\" + 0.009*\"অভিন\" + 0.008*\"নাটক\" + 0.008*\"খান\" + 0.007*\"নাম\" + 0.007*\"চরিত্র\" + 0.006*\"ছবি\" + 0.006*\"অভিনেত্রী\"\n",
            "Topic #11: 0.032*\"রান\" + 0.017*\"ম্যাচ\" + 0.016*\"উইকেট\" + 0.016*\"ক্রিকেট\" + 0.014*\"দল\" + 0.012*\"টেস্ট\" + 0.012*\"বাংলাদেশ\" + 0.010*\"ইনিংস\" + 0.009*\"শেষ\" + 0.009*\"সিরিজ\"\n",
            "Topic #12: 0.012*\"শ্রমিক\" + 0.008*\"নির্মাণ\" + 0.008*\"বন্ধ\" + 0.008*\"প্রকল্প\" + 0.008*\"সড়ক\" + 0.007*\"ভবন\" + 0.007*\"ঢাকা\" + 0.007*\"জানান\" + 0.007*\"বাস\" + 0.007*\"চলাচল\"\n",
            "Topic #13: 0.015*\"প্রাপ্ত\" + 0.014*\"বাংলাদেশ\" + 0.013*\"অনুষ্ঠান\" + 0.013*\"শেখ\" + 0.010*\"বঙ্গবন্ধু\" + 0.009*\"রহমান\" + 0.008*\"সাল\" + 0.007*\"সংসদ\" + 0.006*\"জাতী\" + 0.006*\"আয়োজন\"\n",
            "Topic #14: 0.017*\"জানান\" + 0.015*\"পুলিশ\" + 0.014*\"গ্রাম\" + 0.013*\"উপজেল\" + 0.011*\"হাসপাতাল\" + 0.011*\"ছেল\" + 0.009*\"ঘটনা\" + 0.009*\"থান\" + 0.009*\"উপজেলা\" + 0.009*\"বাড়ি\"\n",
            "Topic #15: 0.015*\"পরিচালক\" + 0.014*\"বাংলাদেশ\" + 0.014*\"প্রতিষ্ঠান\" + 0.011*\"গ্রুপ\" + 0.011*\"সংবাদ\" + 0.010*\"সেবা\" + 0.010*\"বিজ্ঞপ্তি\" + 0.009*\"পণ্য\" + 0.009*\"অনুষ্ঠান\" + 0.008*\"মোবাইল\"\n",
            "Topic #16: 0.021*\"লীগ\" + 0.021*\"নির্বাচন\" + 0.018*\"ভোট\" + 0.017*\"আওয়ামী\" + 0.016*\"সম্পাদক\" + 0.011*\"সভাপতি\" + 0.011*\"বিএনপি\" + 0.011*\"নেতা\" + 0.009*\"ইসলাম\" + 0.009*\"দল\"\n",
            "Topic #17: 0.036*\"টাকা\" + 0.027*\"ব্যাংক\" + 0.023*\"লাখ\" + 0.023*\"শতাংশ\" + 0.011*\"বছর\" + 0.011*\"দশমিক\" + 0.010*\"বাংলাদেশ\" + 0.009*\"অর্থ\" + 0.008*\"টাক\" + 0.008*\"কম\"\n",
            "Topic #18: 0.020*\"দেশ\" + 0.018*\"বাংলাদেশ\" + 0.010*\"সরক\" + 0.010*\"প্রধানমন্ত্রী\" + 0.009*\"কথা\" + 0.008*\"সরকার\" + 0.006*\"আইন\" + 0.006*\"মানুষ\" + 0.005*\"শেখ\" + 0.005*\"উন্নয়ন\"\n",
            "Topic #19: 0.017*\"টাকা\" + 0.010*\"দাম\" + 0.010*\"বিক্রি\" + 0.010*\"পানি\" + 0.008*\"চাল\" + 0.007*\"জেলা\" + 0.007*\"কৃষক\" + 0.007*\"কেজি\" + 0.006*\"বাজার\" + 0.006*\"জানান\"\n"
          ],
          "name": "stdout"
        }
      ]
    },
    {
      "cell_type": "code",
      "metadata": {
        "colab": {
          "base_uri": "https://localhost:8080/",
          "height": 108
        },
        "id": "LYi60_kBRhOS",
        "outputId": "0d4a9d01-ec16-4494-9245-79c4d7213a49"
      },
      "source": [
        "bangla_news_list[128765]"
      ],
      "execution_count": null,
      "outputs": [
        {
          "output_type": "execute_result",
          "data": {
            "application/vnd.google.colaboratory.intrinsic+json": {
              "type": "string"
            },
            "text/plain": [
              "' রোববার দিবাগত রাত পৌনে ২টার দিকে টিএমএসএস হাসপাতালে মাহাদী নামের ওই শিশুর মৃত্যু হয় বলে হাসপাতালের জেনারেল অ্যাডমিন ও করোনা সংক্রান্ত মুখপাত্র আব্দুর রহিম রুবেল জানান। মাহাদী বগুড়া নুনগোলা ডিগ্রী কলেজের প্রভাষক শহরের দক্ষিণ ঠনঠনিয়া এলাকার আব্দুল ওহাবের ছেলে। পরিবারের বরাতে রুবেল বলেন, ব্লাড ক্যান্সারে আক্রান্ত মাহাদী ঢাকার একটি হাসপাতালে ভর্তি ছিল। গত ১৪ আগস্ট নমুনা পরীক্ষায় তার কোভিড-১৯ পজিটিভ শনাক্ত হয়। এরপর শিশুটির শারীরিক অবস্থার অবনতি হলে রোববার রাত সাড়ে ১২টার দিকে টিএমএসএস হাসপাতালে ভর্তির দেড় ঘণ্টা পরে সে মারা যায়। কোয়ান্টাম ফাউন্ডেশন বগুড়া শাখার সমন্বয়ক মিজানুর রহমান জানান, তাদের স্বেচ্ছাসেবীদের একটি দল স্বাস্থ্যবিধি মেনে হাসপাতাল চত্ত্বরে জানাজা শেষে শিশুটির লাশ পরিবারের কাছে হস্তান্তর করেছে।'"
            ]
          },
          "metadata": {
            "tags": []
          },
          "execution_count": 18
        }
      ]
    },
    {
      "cell_type": "code",
      "metadata": {
        "id": "TOBE6V0yrTh8"
      },
      "source": [
        "bow_vector = id2word.doc2bow(list(custom_analyzer(preprocess_BN(bangla_news_list[128765], stop_words=stopwords))))"
      ],
      "execution_count": null,
      "outputs": []
    },
    {
      "cell_type": "code",
      "metadata": {
        "id": "hRrMqyhSE-mH"
      },
      "source": [
        "for topic, prob in sorted(lda_model.get_document_topics(bow_vector), key=lambda tup: -1*tup[1]):\n",
        "    print(topic_num_to_word[topic], prob)"
      ],
      "execution_count": null,
      "outputs": []
    },
    {
      "cell_type": "code",
      "metadata": {
        "id": "i8L7J-h4m0my"
      },
      "source": [
        "tokenized_corpus = []\n",
        "for doc in pp_bangla_news_list[:150000]:\n",
        "  tokenized_corpus.append(list(custom_analyzer(doc)))\n",
        "\n",
        "# Create Dictionary\n",
        "id2word = corpora.Dictionary(tokenized_corpus)\n",
        "\n",
        "# Create Corpus\n",
        "texts = tokenized_corpus\n",
        "\n",
        "# Term Document Frequency\n",
        "corpus = [id2word.doc2bow(text) for text in texts]"
      ],
      "execution_count": null,
      "outputs": []
    },
    {
      "cell_type": "code",
      "metadata": {
        "colab": {
          "base_uri": "https://localhost:8080/",
          "height": 90
        },
        "id": "PrcwIFgVLpXB",
        "outputId": "4a61173c-e853-48d3-ac4f-97eb1f858896"
      },
      "source": [
        "pp_bangla_news_list[128765]"
      ],
      "execution_count": null,
      "outputs": [
        {
          "output_type": "execute_result",
          "data": {
            "application/vnd.google.colaboratory.intrinsic+json": {
              "type": "string"
            },
            "text/plain": [
              "'রোবব দিবাগত রাত পৌন টিএমএসএস হাসপাতাল মাহাদী নাম শিশুর মৃত্যু হাসপাতাল জেনার অ্যাডমিন করোনা সংক্রান্ত মুখপাত্র আব্দুর রহিম রুব জানান মাহাদী বগুড়া নুনগোলা ডিগ্রী কলেজ প্রভাষক শহর দক্ষিণ ঠনঠনিয়া এলাক আব্দুল ওহাব ছেল পরিবার বরা রুব ব্লাড ক্যান্সার আক্রান্ত মাহাদী ঢাক হাসপাতাল ভর্তি আগস্ট নমুনা পরীক্ষা কোভিড পজিটিভ শনাক্ত এরপর শিশু শারীরিক অবস্থ অবনতি রোবব রাত সাড় টিএমএসএস হাসপাতাল ভর্তির দেড় ঘণ্ মা কোয়ান্টাম ফাউন্ডেশন বগুড়া শাখ সমন্বয়ক মিজানুর রহমান জানান স্বেচ্ছাসেবী স্বাস্থ্যবিধি মেন হাসপাতাল চত্ত্বর জানাজা শেষ শিশু লাশ পরিবার হস্তান্তর'"
            ]
          },
          "metadata": {
            "tags": []
          },
          "execution_count": 15
        }
      ]
    },
    {
      "cell_type": "code",
      "metadata": {
        "colab": {
          "base_uri": "https://localhost:8080/"
        },
        "id": "C2rvk5tGLErk",
        "outputId": "513c159b-84fe-4f3e-f6b4-c05b0367f443"
      },
      "source": [
        "#get_document_topics = lda_model.get_document_topics(corpus)\n",
        "print(sorted(get_document_topics[128765], key=lambda tup: -1*tup[1]))"
      ],
      "execution_count": null,
      "outputs": [
        {
          "output_type": "stream",
          "text": [
            "[(14, 0.20968664), (5, 0.1475669), (12, 0.12959209), (9, 0.09795202), (16, 0.07185722), (8, 0.06567942), (4, 0.06442191), (1, 0.062812336), (6, 0.048931457), (0, 0.041497312), (10, 0.022887586), (13, 0.017260324), (3, 0.016261067)]\n"
          ],
          "name": "stdout"
        }
      ]
    },
    {
      "cell_type": "code",
      "metadata": {
        "colab": {
          "base_uri": "https://localhost:8080/"
        },
        "id": "LyVlE9Y1FP1S",
        "outputId": "90c988db-7ddc-4c35-d94a-011ee493d843"
      },
      "source": [
        "lda_model.show_topics(num_topics=20, num_words=10)"
      ],
      "execution_count": null,
      "outputs": [
        {
          "output_type": "execute_result",
          "data": {
            "text/plain": [
              "[(0,\n",
              "  '0.016*\"মানুষ\" + 0.012*\"বছর\" + 0.010*\"নারী\" + 0.010*\"শিশু\" + 0.007*\"পড়\" + 0.006*\"সম\" + 0.006*\"নাম\" + 0.005*\"মা\" + 0.005*\"গবেষণা\" + 0.004*\"সাল\"'),\n",
              " (1,\n",
              "  '0.023*\"মামলা\" + 0.021*\"পুলিশ\" + 0.015*\"অভিযোগ\" + 0.012*\"বিরুদ্ধ\" + 0.010*\"আসামি\" + 0.010*\"আদালত\" + 0.009*\"মামল\" + 0.008*\"তদন্ত\" + 0.008*\"গ্রেপ্ত\" + 0.008*\"আদাল\"'),\n",
              " (2,\n",
              "  '0.015*\"পুলিশ\" + 0.012*\"হামলা\" + 0.010*\"ঘটনা\" + 0.007*\"হামল\" + 0.007*\"দা\" + 0.006*\"বিক্ষোভ\" + 0.006*\"নিহত\" + 0.006*\"বিরুদ্ধ\" + 0.006*\"পাকিস্তান\" + 0.005*\"অভিযোগ\"'),\n",
              " (3,\n",
              "  '0.010*\"খাব\" + 0.009*\"শরীর\" + 0.009*\"পানি\" + 0.008*\"রাখ\" + 0.007*\"সমস্যা\" + 0.006*\"সম\" + 0.006*\"করুন\" + 0.006*\"ভালো\" + 0.006*\"চুল\" + 0.006*\"ত্বক\"'),\n",
              " (4,\n",
              "  '0.017*\"ট্রাম্প\" + 0.012*\"প্রেসিডেন্ট\" + 0.012*\"যুক্তরাষ্ট্র\" + 0.011*\"প্রতিষ্ঠান\" + 0.011*\"মার্কিন\" + 0.006*\"তথ্য\" + 0.006*\"বছর\" + 0.006*\"অ্যাপ\" + 0.006*\"সাল\" + 0.006*\"ফোন\"'),\n",
              " (5,\n",
              "  '0.013*\"ভালো\" + 0.012*\"কথা\" + 0.008*\"সম\" + 0.007*\"জীবন\" + 0.007*\"আপনা\" + 0.006*\"মানুষ\" + 0.005*\"আস\" + 0.005*\"করুন\" + 0.005*\"শুভ\" + 0.004*\"থাক\"'),\n",
              " (6,\n",
              "  '0.027*\"করোনা\" + 0.027*\"করোনাভাইরাস\" + 0.026*\"আক্রান্ত\" + 0.020*\"হাসপাতাল\" + 0.019*\"দেশ\" + 0.015*\"স্বাস্থ্য\" + 0.012*\"রোগী\" + 0.012*\"মৃত্যু\" + 0.011*\"সংক্রমণ\" + 0.011*\"সংখ্যা\"'),\n",
              " (7,\n",
              "  '0.016*\"শিক্ষার্থী\" + 0.012*\"বিভাগ\" + 0.012*\"শিক্ষক\" + 0.009*\"পরীক্ষা\" + 0.009*\"বিশ্ববিদ্যালয়\" + 0.008*\"শিক্ষা\" + 0.008*\"আবেদন\" + 0.007*\"কমি\" + 0.007*\"বিশ্ববিদ্যাল\" + 0.007*\"কলেজ\"'),\n",
              " (8,\n",
              "  '0.025*\"দেশ\" + 0.014*\"চীন\" + 0.011*\"ভারত\" + 0.010*\"যুক্তরাষ্ট্র\" + 0.010*\"বাংলাদেশ\" + 0.010*\"বিমান\" + 0.009*\"রোহিঙ্গা\" + 0.008*\"সৌদি\" + 0.007*\"ইরান\" + 0.006*\"আন্তর্জাতিক\"'),\n",
              " (9,\n",
              "  '0.024*\"ম্যাচ\" + 0.021*\"গোল\" + 0.014*\"দল\" + 0.012*\"লিগ\" + 0.011*\"মিনিট\" + 0.010*\"ফুটবল\" + 0.010*\"মাঠ\" + 0.009*\"ক্লাব\" + 0.008*\"পয়েন্ট\" + 0.008*\"শেষ\"'),\n",
              " (10,\n",
              "  '0.021*\"গান\" + 0.014*\"চলচ্চিত্র\" + 0.009*\"সিনেমা\" + 0.009*\"অভিন\" + 0.008*\"নাটক\" + 0.008*\"খান\" + 0.007*\"নাম\" + 0.007*\"চরিত্র\" + 0.006*\"ছবি\" + 0.006*\"অভিনেত্রী\"'),\n",
              " (11,\n",
              "  '0.032*\"রান\" + 0.017*\"ম্যাচ\" + 0.016*\"উইকেট\" + 0.016*\"ক্রিকেট\" + 0.014*\"দল\" + 0.012*\"টেস্ট\" + 0.012*\"বাংলাদেশ\" + 0.010*\"ইনিংস\" + 0.009*\"শেষ\" + 0.009*\"সিরিজ\"'),\n",
              " (12,\n",
              "  '0.012*\"শ্রমিক\" + 0.008*\"নির্মাণ\" + 0.008*\"বন্ধ\" + 0.008*\"প্রকল্প\" + 0.008*\"সড়ক\" + 0.007*\"ভবন\" + 0.007*\"ঢাকা\" + 0.007*\"জানান\" + 0.007*\"বাস\" + 0.007*\"চলাচল\"'),\n",
              " (13,\n",
              "  '0.015*\"প্রাপ্ত\" + 0.014*\"বাংলাদেশ\" + 0.013*\"অনুষ্ঠান\" + 0.013*\"শেখ\" + 0.010*\"বঙ্গবন্ধু\" + 0.009*\"রহমান\" + 0.008*\"সাল\" + 0.007*\"সংসদ\" + 0.006*\"জাতী\" + 0.006*\"আয়োজন\"'),\n",
              " (14,\n",
              "  '0.017*\"জানান\" + 0.015*\"পুলিশ\" + 0.014*\"গ্রাম\" + 0.013*\"উপজেল\" + 0.011*\"হাসপাতাল\" + 0.011*\"ছেল\" + 0.009*\"ঘটনা\" + 0.009*\"থান\" + 0.009*\"উপজেলা\" + 0.009*\"বাড়ি\"'),\n",
              " (15,\n",
              "  '0.015*\"পরিচালক\" + 0.014*\"বাংলাদেশ\" + 0.014*\"প্রতিষ্ঠান\" + 0.011*\"গ্রুপ\" + 0.011*\"সংবাদ\" + 0.010*\"সেবা\" + 0.010*\"বিজ্ঞপ্তি\" + 0.009*\"পণ্য\" + 0.009*\"অনুষ্ঠান\" + 0.008*\"মোবাইল\"'),\n",
              " (16,\n",
              "  '0.021*\"লীগ\" + 0.021*\"নির্বাচন\" + 0.018*\"ভোট\" + 0.017*\"আওয়ামী\" + 0.016*\"সম্পাদক\" + 0.011*\"সভাপতি\" + 0.011*\"বিএনপি\" + 0.011*\"নেতা\" + 0.009*\"ইসলাম\" + 0.009*\"দল\"'),\n",
              " (17,\n",
              "  '0.036*\"টাকা\" + 0.027*\"ব্যাংক\" + 0.023*\"লাখ\" + 0.023*\"শতাংশ\" + 0.011*\"বছর\" + 0.011*\"দশমিক\" + 0.010*\"বাংলাদেশ\" + 0.009*\"অর্থ\" + 0.008*\"টাক\" + 0.008*\"কম\"'),\n",
              " (18,\n",
              "  '0.020*\"দেশ\" + 0.018*\"বাংলাদেশ\" + 0.010*\"সরক\" + 0.010*\"প্রধানমন্ত্রী\" + 0.009*\"কথা\" + 0.008*\"সরকার\" + 0.006*\"আইন\" + 0.006*\"মানুষ\" + 0.005*\"শেখ\" + 0.005*\"উন্নয়ন\"'),\n",
              " (19,\n",
              "  '0.017*\"টাকা\" + 0.010*\"দাম\" + 0.010*\"বিক্রি\" + 0.010*\"পানি\" + 0.008*\"চাল\" + 0.007*\"জেলা\" + 0.007*\"কৃষক\" + 0.007*\"কেজি\" + 0.006*\"বাজার\" + 0.006*\"জানান\"')]"
            ]
          },
          "metadata": {
            "tags": []
          },
          "execution_count": 32
        }
      ]
    },
    {
      "cell_type": "code",
      "metadata": {
        "id": "w1igHBqPmyId"
      },
      "source": [
        "for index, score in sorted(lda_model[bow_vector], key=lambda tup: -1*tup[1]):\n",
        "    print(\"Score: {}\\t Topic: {}\".format(score, lda_model.print_topic(index, 5)))"
      ],
      "execution_count": null,
      "outputs": []
    },
    {
      "cell_type": "code",
      "metadata": {
        "id": "T3qf6uMm26Gr"
      },
      "source": [
        "lda_model.print_topics(num_topics=20, num_words=10)"
      ],
      "execution_count": null,
      "outputs": []
    },
    {
      "cell_type": "code",
      "metadata": {
        "colab": {
          "base_uri": "https://localhost:8080/"
        },
        "id": "MFD-n0xk2HdR",
        "outputId": "f9237f9f-cd1f-427a-f067-dfb908585216"
      },
      "source": [
        "topics_prod = []\n",
        "\n",
        "for idx in range(20):\n",
        "    topics_prod.append([word for word, prob in lda_model.show_topic(idx, 10)])\n",
        "\n",
        "topics_prod"
      ],
      "execution_count": null,
      "outputs": [
        {
          "output_type": "execute_result",
          "data": {
            "text/plain": [
              "[['মানুষ', 'বছর', 'নারী', 'শিশু', 'পড়', 'সম', 'নাম', 'মা', 'গবেষণা', 'সাল'],\n",
              " ['মামলা',\n",
              "  'পুলিশ',\n",
              "  'অভিযোগ',\n",
              "  'বিরুদ্ধ',\n",
              "  'আসামি',\n",
              "  'আদালত',\n",
              "  'মামল',\n",
              "  'তদন্ত',\n",
              "  'গ্রেপ্ত',\n",
              "  'আদাল'],\n",
              " ['পুলিশ',\n",
              "  'হামলা',\n",
              "  'ঘটনা',\n",
              "  'হামল',\n",
              "  'দা',\n",
              "  'বিক্ষোভ',\n",
              "  'নিহত',\n",
              "  'বিরুদ্ধ',\n",
              "  'পাকিস্তান',\n",
              "  'অভিযোগ'],\n",
              " ['খাব', 'শরীর', 'পানি', 'রাখ', 'সমস্যা', 'সম', 'করুন', 'ভালো', 'চুল', 'ত্বক'],\n",
              " ['ট্রাম্প',\n",
              "  'প্রেসিডেন্ট',\n",
              "  'যুক্তরাষ্ট্র',\n",
              "  'প্রতিষ্ঠান',\n",
              "  'মার্কিন',\n",
              "  'তথ্য',\n",
              "  'বছর',\n",
              "  'অ্যাপ',\n",
              "  'সাল',\n",
              "  'ফোন'],\n",
              " ['ভালো', 'কথা', 'সম', 'জীবন', 'আপনা', 'মানুষ', 'আস', 'করুন', 'শুভ', 'থাক'],\n",
              " ['করোনা',\n",
              "  'করোনাভাইরাস',\n",
              "  'আক্রান্ত',\n",
              "  'হাসপাতাল',\n",
              "  'দেশ',\n",
              "  'স্বাস্থ্য',\n",
              "  'রোগী',\n",
              "  'মৃত্যু',\n",
              "  'সংক্রমণ',\n",
              "  'সংখ্যা'],\n",
              " ['শিক্ষার্থী',\n",
              "  'বিভাগ',\n",
              "  'শিক্ষক',\n",
              "  'পরীক্ষা',\n",
              "  'বিশ্ববিদ্যালয়',\n",
              "  'শিক্ষা',\n",
              "  'আবেদন',\n",
              "  'কমি',\n",
              "  'বিশ্ববিদ্যাল',\n",
              "  'কলেজ'],\n",
              " ['দেশ',\n",
              "  'চীন',\n",
              "  'ভারত',\n",
              "  'যুক্তরাষ্ট্র',\n",
              "  'বাংলাদেশ',\n",
              "  'বিমান',\n",
              "  'রোহিঙ্গা',\n",
              "  'সৌদি',\n",
              "  'ইরান',\n",
              "  'আন্তর্জাতিক'],\n",
              " ['ম্যাচ',\n",
              "  'গোল',\n",
              "  'দল',\n",
              "  'লিগ',\n",
              "  'মিনিট',\n",
              "  'ফুটবল',\n",
              "  'মাঠ',\n",
              "  'ক্লাব',\n",
              "  'পয়েন্ট',\n",
              "  'শেষ'],\n",
              " ['গান',\n",
              "  'চলচ্চিত্র',\n",
              "  'সিনেমা',\n",
              "  'অভিন',\n",
              "  'নাটক',\n",
              "  'খান',\n",
              "  'নাম',\n",
              "  'চরিত্র',\n",
              "  'ছবি',\n",
              "  'অভিনেত্রী'],\n",
              " ['রান',\n",
              "  'ম্যাচ',\n",
              "  'উইকেট',\n",
              "  'ক্রিকেট',\n",
              "  'দল',\n",
              "  'টেস্ট',\n",
              "  'বাংলাদেশ',\n",
              "  'ইনিংস',\n",
              "  'শেষ',\n",
              "  'সিরিজ'],\n",
              " ['শ্রমিক',\n",
              "  'নির্মাণ',\n",
              "  'বন্ধ',\n",
              "  'প্রকল্প',\n",
              "  'সড়ক',\n",
              "  'ভবন',\n",
              "  'ঢাকা',\n",
              "  'জানান',\n",
              "  'বাস',\n",
              "  'চলাচল'],\n",
              " ['প্রাপ্ত',\n",
              "  'বাংলাদেশ',\n",
              "  'অনুষ্ঠান',\n",
              "  'শেখ',\n",
              "  'বঙ্গবন্ধু',\n",
              "  'রহমান',\n",
              "  'সাল',\n",
              "  'সংসদ',\n",
              "  'জাতী',\n",
              "  'আয়োজন'],\n",
              " ['জানান',\n",
              "  'পুলিশ',\n",
              "  'গ্রাম',\n",
              "  'উপজেল',\n",
              "  'হাসপাতাল',\n",
              "  'ছেল',\n",
              "  'ঘটনা',\n",
              "  'থান',\n",
              "  'উপজেলা',\n",
              "  'বাড়ি'],\n",
              " ['পরিচালক',\n",
              "  'বাংলাদেশ',\n",
              "  'প্রতিষ্ঠান',\n",
              "  'গ্রুপ',\n",
              "  'সংবাদ',\n",
              "  'সেবা',\n",
              "  'বিজ্ঞপ্তি',\n",
              "  'পণ্য',\n",
              "  'অনুষ্ঠান',\n",
              "  'মোবাইল'],\n",
              " ['লীগ',\n",
              "  'নির্বাচন',\n",
              "  'ভোট',\n",
              "  'আওয়ামী',\n",
              "  'সম্পাদক',\n",
              "  'সভাপতি',\n",
              "  'বিএনপি',\n",
              "  'নেতা',\n",
              "  'ইসলাম',\n",
              "  'দল'],\n",
              " ['টাকা',\n",
              "  'ব্যাংক',\n",
              "  'লাখ',\n",
              "  'শতাংশ',\n",
              "  'বছর',\n",
              "  'দশমিক',\n",
              "  'বাংলাদেশ',\n",
              "  'অর্থ',\n",
              "  'টাক',\n",
              "  'কম'],\n",
              " ['দেশ',\n",
              "  'বাংলাদেশ',\n",
              "  'সরক',\n",
              "  'প্রধানমন্ত্রী',\n",
              "  'কথা',\n",
              "  'সরকার',\n",
              "  'আইন',\n",
              "  'মানুষ',\n",
              "  'শেখ',\n",
              "  'উন্নয়ন'],\n",
              " ['টাকা',\n",
              "  'দাম',\n",
              "  'বিক্রি',\n",
              "  'পানি',\n",
              "  'চাল',\n",
              "  'জেলা',\n",
              "  'কৃষক',\n",
              "  'কেজি',\n",
              "  'বাজার',\n",
              "  'জানান']]"
            ]
          },
          "metadata": {
            "tags": []
          },
          "execution_count": 20
        }
      ]
    },
    {
      "cell_type": "code",
      "metadata": {
        "colab": {
          "base_uri": "https://localhost:8080/"
        },
        "id": "zb-JhE39OWwE",
        "outputId": "e63f305f-09a0-4955-8bb8-ba02d9677292"
      },
      "source": [
        "# Compute Coherence Score with Model\n",
        "coherence_model_lda = CoherenceModel(model=lda_model, texts=tokenized_corpus, coherence='u_mass')\n",
        "coherence_lda = coherence_model_lda.get_coherence()\n",
        "print('\\nCoherence Score: ', coherence_lda)"
      ],
      "execution_count": null,
      "outputs": [
        {
          "output_type": "stream",
          "text": [
            "\n",
            "Coherence Score:  -1.8642676094659554\n"
          ],
          "name": "stdout"
        }
      ]
    },
    {
      "cell_type": "code",
      "metadata": {
        "id": "keE9uVO5Ag2A"
      },
      "source": [
        "tokenized_corpus_test = []\n",
        "for doc in pp_bangla_news_list[100000:150000]:\n",
        "  tokenized_corpus_test.append(list(custom_analyzer(doc)))"
      ],
      "execution_count": null,
      "outputs": []
    },
    {
      "cell_type": "code",
      "metadata": {
        "colab": {
          "base_uri": "https://localhost:8080/"
        },
        "id": "k1uYz-LY8dzf",
        "outputId": "def22af7-ee6c-4261-c813-1de98442a5da"
      },
      "source": [
        "# Compute Coherence Score with Topics\n",
        "coherence_model_lda = CoherenceModel(topics=topics_prod, texts=tokenized_corpus, dictionary=id2word, coherence='u_mass')\n",
        "coherence_lda = coherence_model_lda.get_coherence()\n",
        "print('\\nCoherence Score: ', coherence_lda)"
      ],
      "execution_count": null,
      "outputs": [
        {
          "output_type": "stream",
          "text": [
            "\n",
            "Coherence Score:  -1.6811436125515968\n"
          ],
          "name": "stdout"
        }
      ]
    }
  ]
}